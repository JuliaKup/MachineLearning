{
 "cells": [
  {
   "cell_type": "code",
   "execution_count": 5,
   "metadata": {
    "collapsed": true
   },
   "outputs": [],
   "source": [
    "import pandas as pd\n",
    "import numpy as np\n",
    "import seaborn as sns\n",
    "import matplotlib.pyplot as plt\n",
    "%matplotlib inline"
   ]
  },
  {
   "cell_type": "code",
   "execution_count": 6,
   "metadata": {
    "collapsed": false
   },
   "outputs": [],
   "source": [
    "import json\n",
    "\n",
    "with open(\"howpop_train.jsonlines\") as file:\n",
    "    records = [json.loads(line) for line in file]\n",
    "    df = pd.DataFrame(records)"
   ]
  },
  {
   "cell_type": "code",
   "execution_count": 7,
   "metadata": {
    "collapsed": false
   },
   "outputs": [],
   "source": [
    "import json\n",
    "\n",
    "with open(\"howpop_test.jsonlines\") as file:\n",
    "    records = [json.loads(line) for line in file]\n",
    "    test = pd.DataFrame(records)"
   ]
  },
  {
   "cell_type": "code",
   "execution_count": 8,
   "metadata": {
    "collapsed": false
   },
   "outputs": [
    {
     "name": "stdout",
     "output_type": "stream",
     "text": [
      "<class 'pandas.core.frame.DataFrame'>\n",
      "RangeIndex: 134137 entries, 0 to 134136\n",
      "Data columns (total 18 columns):\n",
      "_id           134137 non-null object\n",
      "_spider       134137 non-null object\n",
      "_timestamp    134137 non-null float64\n",
      "author        134137 non-null object\n",
      "content       134137 non-null object\n",
      "domain        134137 non-null object\n",
      "flags         134137 non-null object\n",
      "flow          97048 non-null object\n",
      "hubs          134137 non-null object\n",
      "link_tags     134137 non-null object\n",
      "meta_tags     134137 non-null object\n",
      "polling       4725 non-null object\n",
      "post_id       134137 non-null int64\n",
      "published     134137 non-null object\n",
      "quality       134137 non-null object\n",
      "tags          134137 non-null object\n",
      "title         134137 non-null object\n",
      "url           134137 non-null object\n",
      "dtypes: float64(1), int64(1), object(16)\n",
      "memory usage: 18.4+ MB\n"
     ]
    }
   ],
   "source": [
    "df.info()"
   ]
  },
  {
   "cell_type": "code",
   "execution_count": 9,
   "metadata": {
    "collapsed": true
   },
   "outputs": [],
   "source": [
    "df = df.drop([\"_id\", \"_spider\", \"_timestamp\", \"author\", \"polling\", \"post_id\", \"url\", \"link_tags\"], axis=1)"
   ]
  },
  {
   "cell_type": "code",
   "execution_count": 10,
   "metadata": {
    "collapsed": true
   },
   "outputs": [],
   "source": [
    "test = test.drop([\"_id\", \"_spider\", \"_timestamp\", \"author\", \"polling\", \"post_id\", \"url\", \"link_tags\"], axis=1)"
   ]
  },
  {
   "cell_type": "code",
   "execution_count": 11,
   "metadata": {
    "collapsed": false
   },
   "outputs": [],
   "source": [
    "def favs_lognorm(df):\n",
    "    favs_lognorm = []\n",
    "    for i in range(len(df)):\n",
    "        favs_lognorm.append(df['quality'][i]['favs_lognorm'])\n",
    "    df['favs_lognorm'] = favs_lognorm"
   ]
  },
  {
   "cell_type": "code",
   "execution_count": 12,
   "metadata": {
    "collapsed": true
   },
   "outputs": [],
   "source": [
    "favs_lognorm(df)\n",
    "favs_lognorm(test)"
   ]
  },
  {
   "cell_type": "code",
   "execution_count": 13,
   "metadata": {
    "collapsed": true
   },
   "outputs": [],
   "source": [
    "df = df.drop(\"quality\", axis=1)\n",
    "test = test.drop(\"quality\", axis=1)"
   ]
  },
  {
   "cell_type": "code",
   "execution_count": null,
   "metadata": {
    "collapsed": true
   },
   "outputs": [],
   "source": [
    "from datetime import datetime\n",
    "\n",
    "def published(df):\n",
    "    df['published'] = df['published'].apply(lambda x: datetime.strptime(x, '%Y-%m-%d %H:%M:%S'))\n",
    "\n",
    "    year = []\n",
    "    month = []\n",
    "    day = []\n",
    "\n",
    "    for i in range(len(df)):\n",
    "        year.append(df['published'][i].year)\n",
    "        month.append(df['published'][i].month)\n",
    "        day.append(df['published'][i].day)\n",
    "    df['year'] = year\n",
    "    df['month'] = month\n",
    "    df['day'] = day"
   ]
  },
  {
   "cell_type": "code",
   "execution_count": null,
   "metadata": {
    "collapsed": false
   },
   "outputs": [],
   "source": [
    "published(df)\n",
    "published(test)"
   ]
  },
  {
   "cell_type": "code",
   "execution_count": 14,
   "metadata": {
    "collapsed": true
   },
   "outputs": [],
   "source": [
    "df = df.drop(\"published\", axis=1)\n",
    "test = test.drop(\"published\", axis=1)"
   ]
  },
  {
   "cell_type": "code",
   "execution_count": null,
   "metadata": {
    "collapsed": false
   },
   "outputs": [],
   "source": [
    "description(df)\n",
    "description(test)"
   ]
  },
  {
   "cell_type": "code",
   "execution_count": 15,
   "metadata": {
    "collapsed": true
   },
   "outputs": [],
   "source": [
    "df = df.drop(\"meta_tags\", axis=1)\n",
    "test = test.drop(\"meta_tags\", axis=1)"
   ]
  },
  {
   "cell_type": "code",
   "execution_count": 16,
   "metadata": {
    "collapsed": true
   },
   "outputs": [],
   "source": [
    "df = pd.get_dummies(df, columns=[\"domain\", \"flow\"])\n",
    "test = pd.get_dummies(test, columns=[\"domain\", \"flow\"])"
   ]
  },
  {
   "cell_type": "code",
   "execution_count": 17,
   "metadata": {
    "collapsed": true
   },
   "outputs": [],
   "source": [
    "def enc_flags(df):\n",
    "    flags = {}\n",
    "    for i in range(len(df)):\n",
    "        #f = json.loads(df['flags'].iloc[i].replace(\"'\", '\\\"'))\n",
    "        f = df['flags'].iloc[i]\n",
    "        for flag in f:\n",
    "            if flag not in flags:\n",
    "                flags[flag] = [0] * len(df)\n",
    "            flags[flag][i] = 1\n",
    "\n",
    "    for flag in flags:\n",
    "        df['flag_' + flag] = flags[flag]"
   ]
  },
  {
   "cell_type": "code",
   "execution_count": 18,
   "metadata": {
    "collapsed": true
   },
   "outputs": [],
   "source": [
    "enc_flags(df)\n",
    "enc_flags(test)"
   ]
  },
  {
   "cell_type": "code",
   "execution_count": 19,
   "metadata": {
    "collapsed": true
   },
   "outputs": [],
   "source": [
    "df = df.drop(\"flags\", axis=1)\n",
    "test = test.drop(\"flags\", axis=1)"
   ]
  },
  {
   "cell_type": "code",
   "execution_count": 20,
   "metadata": {
    "collapsed": true
   },
   "outputs": [],
   "source": [
    "def hubs(df):\n",
    "    hubs = {}\n",
    "    for i in range(len(df)):\n",
    "        for j in range(len(df['hubs'].iloc[i])):\n",
    "            if df['hubs'].iloc[i][j]['title'] not in hubs:\n",
    "                hubs[df['hubs'].iloc[i][j]['title']] = [0] * len(df)\n",
    "            hubs[df['hubs'].iloc[i][j]['title']][i] = 1\n",
    "    for hub in hubs:\n",
    "        df[hub] = hubs[hub]"
   ]
  },
  {
   "cell_type": "code",
   "execution_count": 21,
   "metadata": {
    "collapsed": false
   },
   "outputs": [],
   "source": [
    "hubs(df)\n",
    "hubs(test)"
   ]
  },
  {
   "cell_type": "code",
   "execution_count": 22,
   "metadata": {
    "collapsed": true
   },
   "outputs": [],
   "source": [
    "train = df.drop(['content', 'hubs', 'tags', 'title'], axis=1)\n",
    "test = test.drop(['content', 'hubs', 'tags', 'title'], axis=1)"
   ]
  },
  {
   "cell_type": "code",
   "execution_count": 23,
   "metadata": {
    "collapsed": true
   },
   "outputs": [],
   "source": [
    "train = train[67068:]"
   ]
  },
  {
   "cell_type": "code",
   "execution_count": 24,
   "metadata": {
    "collapsed": true
   },
   "outputs": [],
   "source": [
    "train_target = train[\"favs_lognorm\"]\n",
    "train = train.drop(\"favs_lognorm\", axis=1)\n",
    "test_target = test[\"favs_lognorm\"]\n",
    "test = test.drop(\"favs_lognorm\", axis=1)"
   ]
  },
  {
   "cell_type": "code",
   "execution_count": 25,
   "metadata": {
    "collapsed": true
   },
   "outputs": [],
   "source": [
    "def equal_columns(train, test):\n",
    "    for c in train.columns:\n",
    "        if c not in test.columns:\n",
    "            test[c] = [0] * len(test)\n",
    "    for c in test.columns:\n",
    "        if c not in train.columns:\n",
    "            train[c] = [0] * len(train)"
   ]
  },
  {
   "cell_type": "code",
   "execution_count": 26,
   "metadata": {
    "collapsed": true
   },
   "outputs": [],
   "source": [
    "equal_columns(train, test)"
   ]
  },
  {
   "cell_type": "code",
   "execution_count": 41,
   "metadata": {
    "collapsed": false
   },
   "outputs": [],
   "source": [
    "from sklearn.linear_model import Ridge\n",
    "from sklearn.metrics import mean_squared_error\n",
    "\n",
    "bestA = 0\n",
    "bestMSE = 1000\n",
    "errors = []\n",
    "for a in range(100, 120):\n",
    "    clf = Ridge(alpha=a)\n",
    "    clf.fit(train, train_target)\n",
    "    prediction = clf.predict(test)\n",
    "    MSE = mean_squared_error(test_target, prediction)\n",
    "    errors.append(MSE)\n",
    "    if MSE < bestMSE:\n",
    "        bestMSE = MSE\n",
    "        bestA = a"
   ]
  },
  {
   "cell_type": "code",
   "execution_count": 42,
   "metadata": {
    "collapsed": false
   },
   "outputs": [
    {
     "name": "stdout",
     "output_type": "stream",
     "text": [
      "119 1.10280468208\n"
     ]
    }
   ],
   "source": [
    "print(bestA, bestMSE)"
   ]
  },
  {
   "cell_type": "code",
   "execution_count": 44,
   "metadata": {
    "collapsed": false
   },
   "outputs": [
    {
     "data": {
      "image/png": "[encoded data removed]",
      "text/plain": [
       "<matplotlib.figure.Figure at 0x10441a080>"
      ]
     },
     "metadata": {},
     "output_type": "display_data"
    }
   ],
   "source": [
    "plt.plot([a for a in range(100, 120)], errors)\n",
    "plt.show()"
   ]
  }
 ],
 "metadata": {
  "anaconda-cloud": {},
  "kernelspec": {
   "display_name": "Python [conda root]",
   "language": "python",
   "name": "conda-root-py"
  },
  "language_info": {
   "codemirror_mode": {
    "name": "ipython",
    "version": 3
   },
   "file_extension": ".py",
   "mimetype": "text/x-python",
   "name": "python",
   "nbconvert_exporter": "python",
   "pygments_lexer": "ipython3",
   "version": "3.5.2"
  }
 },
 "nbformat": 4,
 "nbformat_minor": 1
}
