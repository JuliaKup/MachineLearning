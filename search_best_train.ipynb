{
 "cells": [
  {
   "cell_type": "code",
   "execution_count": 1,
   "metadata": {
    "collapsed": true
   },
   "outputs": [],
   "source": [
    "import pandas as pd\n",
    "import numpy as np\n",
    "import json\n",
    "import matplotlib.pyplot as plt\n",
    "import seaborn as sns\n",
    "from tqdm import tqdm\n",
    "%matplotlib inline"
   ]
  },
  {
   "cell_type": "code",
   "execution_count": 5,
   "metadata": {
    "collapsed": false
   },
   "outputs": [
    {
     "name": "stderr",
     "output_type": "stream",
     "text": [
      "138127it [01:53, 1212.19it/s]\n"
     ]
    }
   ],
   "source": [
    "df = pd.DataFrame(list(map(json.loads, tqdm(open(\"howpop_full.jsonlines\")))))"
   ]
  },
  {
   "cell_type": "code",
   "execution_count": 3,
   "metadata": {
    "collapsed": false
   },
   "outputs": [],
   "source": [
    "df = df.drop([\"_id\", \"_spider\", \"_timestamp\", \"author\", \"polling\", \"post_id\", \"url\", \"link_tags\"], axis=1)"
   ]
  },
  {
   "cell_type": "code",
   "execution_count": 16,
   "metadata": {
    "collapsed": true
   },
   "outputs": [],
   "source": [
    "target_columns = [\"favs_lognorm\", \"views_lognorm\", \"votes_plus\", \"votes_minus\"]\n",
    "\n",
    "for target_col in target_columns:\n",
    "    df[target_col] = df.quality.apply(lambda d:d[target_col]).fillna(0)\n",
    "    \n",
    "    #lognorm of votes +/-\n",
    "    if target_col in [\"votes_plus\",\"votes_minus\"]:\n",
    "        assert np.min(df[target_col])>=0\n",
    "        df[target_col] = np.log(df[target_col]+1)\n",
    "        df[target_col] = (df[target_col] - df[target_col].mean())/df[target_col].std()\n",
    "targets = df[target_columns].values.astype('float32')"
   ]
  },
  {
   "cell_type": "code",
   "execution_count": 24,
   "metadata": {
    "collapsed": true
   },
   "outputs": [],
   "source": [
    "target_columns = [\"favs\", \"views\"]\n",
    "for target_col in target_columns:\n",
    "    df[target_col] = df.quality.apply(lambda d:d[target_col]).fillna(0)"
   ]
  },
  {
   "cell_type": "code",
   "execution_count": 22,
   "metadata": {
    "collapsed": false
   },
   "outputs": [
    {
     "data": {
      "text/plain": [
       "Index(['_id', '_spider', '_timestamp', 'author', 'content', 'domain', 'flags',\n",
       "       'flow', 'hubs', 'link_tags', 'meta_tags', 'polling', 'post_id',\n",
       "       'published', 'quality', 'tags', 'title', 'url', 'favs_lognorm',\n",
       "       'views_lognorm', 'votes_plus', 'votes_minus'],\n",
       "      dtype='object')"
      ]
     },
     "execution_count": 22,
     "metadata": {},
     "output_type": "execute_result"
    }
   ],
   "source": [
    "df.columns"
   ]
  },
  {
   "cell_type": "code",
   "execution_count": 31,
   "metadata": {
    "collapsed": false
   },
   "outputs": [
    {
     "data": {
      "text/plain": [
       "<matplotlib.axes._subplots.AxesSubplot at 0x114551c18>"
      ]
     },
     "execution_count": 31,
     "metadata": {},
     "output_type": "execute_result"
    },
    {
     "data": {
      "image/png": "[encoded data removed]",
      "text/plain": [
       "<matplotlib.figure.Figure at 0x114551438>"
      ]
     },
     "metadata": {},
     "output_type": "display_data"
    }
   ],
   "source": [
    "plt.figure(figsize=(20, 6))\n",
    "df.favs.hist(bins=55)"
   ]
  },
  {
   "cell_type": "code",
   "execution_count": null,
   "metadata": {
    "collapsed": false
   },
   "outputs": [],
   "source": [
    "def hubs(df):\n",
    "    hubs = {}\n",
    "    for i in range(len(df)):\n",
    "        for j in range(len(df['hubs'].iloc[i])):\n",
    "            if df['hubs'].iloc[i][j]['title'] not in hubs:\n",
    "                hubs[df['hubs'].iloc[i][j]['title']] = [0] * len(df)\n",
    "            hubs[df['hubs'].iloc[i][j]['title']][i] = 1\n",
    "    for hub in hubs:\n",
    "        df[hub] = hubs[hub]"
   ]
  },
  {
   "cell_type": "code",
   "execution_count": null,
   "metadata": {
    "collapsed": true
   },
   "outputs": [],
   "source": [
    "hubs(df)"
   ]
  },
  {
   "cell_type": "code",
   "execution_count": null,
   "metadata": {
    "collapsed": true
   },
   "outputs": [],
   "source": [
    "def enc_flags(df):\n",
    "    flags = {}\n",
    "    for i in range(len(df)):\n",
    "        #f = json.loads(df['flags'].iloc[i].replace(\"'\", '\\\"'))\n",
    "        f = df['flags'].iloc[i]\n",
    "        for flag in f:\n",
    "            if flag not in flags:\n",
    "                flags[flag] = [0] * len(df)\n",
    "            flags[flag][i] = 1\n",
    "\n",
    "    for flag in flags:\n",
    "        df['flag_' + flag] = flags[flag]"
   ]
  },
  {
   "cell_type": "code",
   "execution_count": null,
   "metadata": {
    "collapsed": false
   },
   "outputs": [],
   "source": [
    "enc_flags(df)"
   ]
  },
  {
   "cell_type": "code",
   "execution_count": null,
   "metadata": {
    "collapsed": false
   },
   "outputs": [],
   "source": [
    "df = pd.get_dummies(df, columns=[\"domain\", \"flow\"])"
   ]
  },
  {
   "cell_type": "code",
   "execution_count": null,
   "metadata": {
    "collapsed": false
   },
   "outputs": [],
   "source": [
    "df = df.drop(['hubs', 'flags'], axis=1)"
   ]
  },
  {
   "cell_type": "code",
   "execution_count": null,
   "metadata": {
    "collapsed": false
   },
   "outputs": [],
   "source": [
    "from itertools import chain\n",
    "from collections import Counter\n",
    "\n",
    "#assemble all the tags\n",
    "tags = list(map(lambda ch: {str(tag):1 for tag in ch}, df.tags))\n",
    "\n",
    "#get most popular tags\n",
    "tag_counts = Counter()\n",
    "for tags_i in tags:\n",
    "    tag_counts.update(tags_i.keys())\n",
    "\n",
    "popular_tags = set(list(zip(*tag_counts.most_common(4096)))[0])"
   ]
  },
  {
   "cell_type": "code",
   "execution_count": null,
   "metadata": {
    "collapsed": false
   },
   "outputs": [],
   "source": [
    "for t in tqdm(popular_tags):\n",
    "    col = []\n",
    "    for ts in df.tags:\n",
    "        if t in ts:\n",
    "            col.append(1)\n",
    "        else:\n",
    "            col.append(0)\n",
    "    df[t] = col"
   ]
  },
  {
   "cell_type": "code",
   "execution_count": null,
   "metadata": {
    "collapsed": true
   },
   "outputs": [],
   "source": [
    "from sklearn.feature_extraction import DictVectorizer\n",
    "tag_vectorizer = DictVectorizer(sparse=False,dtype=np.float32).fit(tags)\n",
    "\n",
    "tags_ix = tag_vectorizer.transform(tags)"
   ]
  },
  {
   "cell_type": "code",
   "execution_count": null,
   "metadata": {
    "collapsed": false
   },
   "outputs": [],
   "source": [
    "plt.figure(figsize=(20,8))\n",
    "plt.hist(tags_ix.sum(1),bins=40)\n",
    "plt.title(\"Number of tags per post\")\n",
    "plt.xlabel(\"Value\")\n",
    "plt.ylabel(\"Frequency\")"
   ]
  },
  {
   "cell_type": "code",
   "execution_count": null,
   "metadata": {
    "collapsed": false
   },
   "outputs": [],
   "source": [
    "description = []\n",
    "for i in tqdm(range(len(df))):\n",
    "    try:\n",
    "        description.append(df.meta_tags[i][\"description\"])\n",
    "    except:\n",
    "        print(i)\n",
    "        description.append(\"Empty\")\n",
    "        pass\n",
    "df[\"description\"] = description"
   ]
  },
  {
   "cell_type": "code",
   "execution_count": null,
   "metadata": {
    "collapsed": true
   },
   "outputs": [],
   "source": [
    "df = df.drop(\"meta_tags\", axis=1)"
   ]
  },
  {
   "cell_type": "code",
   "execution_count": null,
   "metadata": {
    "collapsed": false
   },
   "outputs": [],
   "source": [
    "df.columns"
   ]
  },
  {
   "cell_type": "code",
   "execution_count": null,
   "metadata": {
    "collapsed": false
   },
   "outputs": [],
   "source": [
    "df = df.drop([\"quality\", \"tags\"], axis = 1)"
   ]
  },
  {
   "cell_type": "code",
   "execution_count": null,
   "metadata": {
    "collapsed": false
   },
   "outputs": [],
   "source": [
    "import pymystem3\n",
    "import nltk\n",
    "from nltk.stem import WordNetLemmatizer\n",
    "from nltk.corpus import stopwords\n",
    "\n",
    "wordnet_lemmatizer = WordNetLemmatizer()\n",
    "p = pymystem3.mystem.Mystem()\n",
    "\n",
    "def post_to_wordlist(raw_text, remove_stopwords=False, normal=True):\n",
    "    if normal:\n",
    "        words = p.lemmatize(raw_text)\n",
    "        words = [wordnet_lemmatizer.lemmatize(word) for word in words]\n",
    "    else:\n",
    "        words = nltk.word_tokenize(raw_text.lower())\n",
    "    \n",
    "    #pattern = re.compile(r'([a-zа-я0-9@$*\\'\\+\\(\\)\\[\\]]+\\-@#)*[a-zа-я0-9@$*\\'\\+@#\\(\\)\\[\\]]+')\n",
    "    #words = [w for w in words if pattern.match(w)]\n",
    "    \n",
    "    if remove_stopwords:\n",
    "        stops = set(stopwords.words('russian')) | set(stopwords.words('english'))\n",
    "        words = [w for w in words if not w in stops]\n",
    "    \n",
    "    return words"
   ]
  },
  {
   "cell_type": "code",
   "execution_count": null,
   "metadata": {
    "collapsed": false
   },
   "outputs": [],
   "source": [
    "wordlist_title = df['title'].apply(lambda x: ' '.join(post_to_wordlist(x, remove_stopwords=True, normal=True)))\n",
    "wordlist_description = df['description'].apply(lambda x: ' '.join(post_to_wordlist(x, remove_stopwords=True, normal=True)))"
   ]
  },
  {
   "cell_type": "code",
   "execution_count": null,
   "metadata": {
    "collapsed": true
   },
   "outputs": [],
   "source": [
    "df[\"wordlist_title\"] = wordlist_title\n",
    "df[\"wordlist_description\"] = wordlist_description"
   ]
  },
  {
   "cell_type": "code",
   "execution_count": null,
   "metadata": {
    "collapsed": false
   },
   "outputs": [],
   "source": [
    "target_columns = [\"favs_lognorm\", \"views_lognorm\", \"votes_plus\", \"votes_minus\"]\n",
    "targets = df[target_columns].values.astype('float32')"
   ]
  },
  {
   "cell_type": "code",
   "execution_count": null,
   "metadata": {
    "collapsed": false
   },
   "outputs": [],
   "source": [
    "df.columns"
   ]
  },
  {
   "cell_type": "code",
   "execution_count": null,
   "metadata": {
    "collapsed": true
   },
   "outputs": [],
   "source": [
    "df = df.drop([\"title\", \"content\", \"description\", 'favs_lognorm', \"published\", 'views_lognorm', 'votes_plus', 'votes_minus'], axis=1)"
   ]
  },
  {
   "cell_type": "code",
   "execution_count": null,
   "metadata": {
    "collapsed": false
   },
   "outputs": [],
   "source": [
    "train_words = wordlist_title[:134137]\n",
    "train_words = train_words.append(wordlist_description[:134137], ignore_index=True)"
   ]
  },
  {
   "cell_type": "code",
   "execution_count": null,
   "metadata": {
    "collapsed": false
   },
   "outputs": [],
   "source": [
    "from sklearn.feature_extraction.text import TfidfVectorizer\n",
    "\n",
    "t = TfidfVectorizer()\n",
    "t.fit(train_words)\n",
    "tftitle_train = t.transform(wordlist_title[:134137])\n",
    "tftitle_test = t.transform(wordlist_title[134137:])\n",
    "tfdescr_train = t.transform(wordlist_description[:134137])\n",
    "tfdescr_test = t.transform(wordlist_description[134137:])"
   ]
  },
  {
   "cell_type": "code",
   "execution_count": null,
   "metadata": {
    "collapsed": true
   },
   "outputs": [],
   "source": [
    "import scipy\n",
    "\n",
    "train = scipy.sparse.hstack((tftitle_train, tfdescr_train))\n",
    "test = scipy.sparse.hstack((tftitle_test, tfdescr_test))"
   ]
  },
  {
   "cell_type": "code",
   "execution_count": null,
   "metadata": {
    "collapsed": true
   },
   "outputs": [],
   "source": []
  },
  {
   "cell_type": "code",
   "execution_count": null,
   "metadata": {
    "collapsed": false
   },
   "outputs": [],
   "source": [
    "from sklearn.linear_model import Ridge, RidgeCV\n",
    "from sklearn.metrics import r2_score\n",
    "from sklearn.metrics import mean_absolute_error\n",
    "from sklearn.metrics import mean_squared_error\n",
    "\n",
    "train = train.tocsc()\n",
    "\n",
    "R = Ridge(alpha=3, copy_X=True, fit_intercept=True, max_iter=None,\n",
    "   normalize=False, random_state=None, solver='auto', tol=0.001)\n",
    "\n",
    "R.fit(train[50000:], targets[50000:134137, 0])\n",
    "prediction = R.predict(test)"
   ]
  },
  {
   "cell_type": "code",
   "execution_count": null,
   "metadata": {
    "collapsed": true
   },
   "outputs": [],
   "source": [
    "pr_train = R.predict(train)"
   ]
  },
  {
   "cell_type": "code",
   "execution_count": null,
   "metadata": {
    "collapsed": false
   },
   "outputs": [],
   "source": [
    "df[\"prediction\"] = np.concatenate((pr_train, prediction))"
   ]
  },
  {
   "cell_type": "code",
   "execution_count": null,
   "metadata": {
    "collapsed": false
   },
   "outputs": [],
   "source": [
    "XGBR = xgb.XGBRegressor(max_depth=10, n_estimators=20, silent=False)\n",
    "XGBR.fit(df.iloc[50000:134137], targets[50000:134137, 0])\n",
    "prediction = XGBR.predict(df.iloc[134137:])\n",
    "print(mean_squared_error(targets[134137:, 0], prediction))\n",
    "print(mean_absolute_error(targets[134137:, 0], prediction))\n",
    "print(r2_score(targets[134137:, 0], prediction))"
   ]
  },
  {
   "cell_type": "code",
   "execution_count": null,
   "metadata": {
    "collapsed": true
   },
   "outputs": [],
   "source": [
    "model = Ridge(alpha=14, copy_X=True, fit_intercept=True, max_iter=None,\n",
    "   normalize=False, random_state=None, solver='auto', tol=0.001)\n",
    "\n",
    "model.fit(tmp[50000:], targets[50000:134137, 1])\n",
    "prediction = model.predict(test)\n",
    "print(mean_squared_error(targets[134137:, 1], prediction))\n",
    "print(mean_absolute_error(targets[134137:, 1], prediction))\n",
    "print(r2_score(targets[134137:, 1], prediction))"
   ]
  },
  {
   "cell_type": "code",
   "execution_count": 53,
   "metadata": {
    "collapsed": false
   },
   "outputs": [
    {
     "name": "stdout",
     "output_type": "stream",
     "text": [
      "Fitting 3 folds for each of 17 candidates, totalling 51 fits\n"
     ]
    },
    {
     "name": "stderr",
     "output_type": "stream",
     "text": [
      "[Parallel(n_jobs=8)]: Done  34 tasks      | elapsed:   32.4s\n",
      "[Parallel(n_jobs=8)]: Done  51 out of  51 | elapsed:   40.6s finished\n"
     ]
    },
    {
     "name": "stdout",
     "output_type": "stream",
     "text": [
      "Ridge(alpha=6, copy_X=True, fit_intercept=True, max_iter=None,\n",
      "   normalize=False, random_state=None, solver='auto', tol=0.001)\n",
      "0.842039105296\n",
      "0.697634270487\n",
      "0.211462374098\n"
     ]
    }
   ],
   "source": [
    "from sklearn.model_selection import GridSearchCV\n",
    "\n",
    "CV = GridSearchCV(\n",
    "    Ridge(),\n",
    "    {'alpha': np.arange(3, 20, 1)},\n",
    "    scoring='neg_mean_squared_error',\n",
    "    n_jobs=8,\n",
    "    verbose=1\n",
    ")\n",
    "CV.fit(train[50000:], targets[50000:134137, 1])\n",
    "print(CV.best_estimator_)\n",
    "prediction = CV.predict(test)\n",
    "print(mean_squared_error(targets[134137:, 1], prediction))\n",
    "print(mean_absolute_error(targets[134137:, 1], prediction))\n",
    "print(r2_score(targets[134137:, 1], prediction))"
   ]
  },
  {
   "cell_type": "code",
   "execution_count": 55,
   "metadata": {
    "collapsed": true
   },
   "outputs": [],
   "source": [
    "pr_train = CV.predict(train)\n",
    "df[\"prediction\"] = np.concatenate((pr_train, prediction))"
   ]
  },
  {
   "cell_type": "code",
   "execution_count": 56,
   "metadata": {
    "collapsed": false
   },
   "outputs": [
    {
     "name": "stdout",
     "output_type": "stream",
     "text": [
      "0.878785\n",
      "0.711019\n",
      "0.177051650872\n"
     ]
    }
   ],
   "source": [
    "XGBR = xgb.XGBRegressor(max_depth=10, n_estimators=15, silent=False)\n",
    "XGBR.fit(df.iloc[50000:134137], targets[50000:134137, 1])\n",
    "prediction = XGBR.predict(df.iloc[134137:])\n",
    "print(mean_squared_error(targets[134137:, 1], prediction))\n",
    "print(mean_absolute_error(targets[134137:, 1], prediction))\n",
    "print(r2_score(targets[134137:, 1], prediction))"
   ]
  },
  {
   "cell_type": "code",
   "execution_count": 47,
   "metadata": {
    "collapsed": false
   },
   "outputs": [
    {
     "name": "stdout",
     "output_type": "stream",
     "text": [
      "Fitting 3 folds for each of 17 candidates, totalling 51 fits\n",
      "[CV] alpha=3 .........................................................\n",
      "[CV] alpha=3 .........................................................\n",
      "[CV] alpha=3 .........................................................\n",
      "[CV] alpha=4 .........................................................\n",
      "[CV] alpha=4 .........................................................\n",
      "[CV] alpha=4 .........................................................\n",
      "[CV] alpha=5 .........................................................\n",
      "[CV] alpha=5 .........................................................\n",
      "[CV] .......................................... alpha=4, total=   7.2s\n",
      "[CV] alpha=5 .........................................................\n",
      "[CV] .......................................... alpha=5, total=   6.8s\n",
      "[CV] alpha=6 .........................................................\n",
      "[CV] .......................................... alpha=4, total=   7.4s\n",
      "[CV] .......................................... alpha=5, total=   7.0s\n",
      "[CV] alpha=6 .........................................................\n",
      "[CV] .......................................... alpha=3, total=   7.9s\n",
      "[CV] alpha=6 .........................................................\n",
      "[CV] .......................................... alpha=4, total=   7.6s\n",
      "[CV] alpha=7 .........................................................\n",
      "[CV] .......................................... alpha=3, total=   8.1s\n",
      "[CV] alpha=7 .........................................................\n",
      "[CV] alpha=7 .........................................................\n",
      "[CV] .......................................... alpha=3, total=   8.5s\n",
      "[CV] alpha=8 .........................................................\n",
      "[CV] .......................................... alpha=6, total=   6.2s\n",
      "[CV] alpha=8 .........................................................\n",
      "[CV] .......................................... alpha=7, total=   6.3s\n",
      "[CV] alpha=8 .........................................................\n",
      "[CV] .......................................... alpha=7, total=   6.3s\n",
      "[CV] alpha=9 .........................................................\n",
      "[CV] .......................................... alpha=6, total=   7.0s\n",
      "[CV] alpha=9 .........................................................\n",
      "[CV] .......................................... alpha=8, total=   6.3s\n",
      "[CV] alpha=9 .........................................................\n",
      "[CV] .......................................... alpha=7, total=   6.8s\n",
      "[CV] alpha=10 ........................................................\n",
      "[CV] .......................................... alpha=5, total=   7.7s\n",
      "[CV] alpha=10 ........................................................\n",
      "[CV] .......................................... alpha=6, total=   8.8s\n",
      "[CV] alpha=10 ........................................................\n",
      "[CV] .......................................... alpha=9, total=   5.8s\n",
      "[CV] alpha=11 ........................................................\n",
      "[CV] .......................................... alpha=9, total=   5.6s\n",
      "[CV] alpha=11 ........................................................\n",
      "[CV] .......................................... alpha=8, total=   6.5s\n",
      "[CV] ......................................... alpha=10, total=   5.6s\n",
      "[CV] alpha=11 ........................................................\n",
      "[CV] alpha=12 ........................................................\n",
      "[CV] .......................................... alpha=9, total=   6.3s\n",
      "[CV] ......................................... alpha=10, total=   6.1s\n",
      "[CV] alpha=12 ........................................................\n",
      "[CV] alpha=12 ........................................................\n",
      "[CV] .......................................... alpha=8, total=   7.2s\n",
      "[CV] alpha=13 ........................................................\n",
      "[CV] ......................................... alpha=10, total=   5.9s\n",
      "[CV] alpha=13 ........................................................\n",
      "[CV] ......................................... alpha=12, total=   5.7s\n",
      "[CV] ......................................... alpha=11, total=   6.2s\n",
      "[CV] alpha=13 ........................................................\n",
      "[CV] alpha=14 ........................................................\n"
     ]
    },
    {
     "name": "stderr",
     "output_type": "stream",
     "text": [
      "[Parallel(n_jobs=8)]: Done  25 tasks      | elapsed:   27.1s\n"
     ]
    },
    {
     "name": "stdout",
     "output_type": "stream",
     "text": [
      "[CV] ......................................... alpha=11, total=   6.2s\n",
      "[CV] alpha=14 ........................................................\n",
      "[CV] ......................................... alpha=11, total=   6.4s\n",
      "[CV] alpha=14 ........................................................\n",
      "[CV] ......................................... alpha=13, total=   5.8s\n",
      "[CV] ......................................... alpha=12, total=   6.2s\n",
      "[CV] alpha=15 ........................................................\n",
      "[CV] alpha=15 ........................................................\n",
      "[CV] ......................................... alpha=12, total=   6.5s\n",
      "[CV] alpha=15 ........................................................\n",
      "[CV] ......................................... alpha=13, total=   6.3s\n",
      "[CV] alpha=16 ........................................................\n",
      "[CV] ......................................... alpha=13, total=   5.6s\n",
      "[CV] alpha=16 ........................................................\n",
      "[CV] ......................................... alpha=14, total=   6.1s\n",
      "[CV] ......................................... alpha=14, total=   5.4s\n",
      "[CV] alpha=17 ........................................................\n",
      "[CV] alpha=16 ........................................................\n",
      "[CV] ......................................... alpha=14, total=   5.9s\n",
      "[CV] alpha=17 ........................................................\n",
      "[CV] ......................................... alpha=15, total=   5.4s\n",
      "[CV] alpha=17 ........................................................\n",
      "[CV] ......................................... alpha=15, total=   6.0s\n",
      "[CV] ......................................... alpha=15, total=   6.0s\n",
      "[CV] alpha=18 ........................................................\n",
      "[CV] alpha=18 ........................................................\n",
      "[CV] ......................................... alpha=16, total=   5.9s\n",
      "[CV] alpha=18 ........................................................\n",
      "[CV] ......................................... alpha=17, total=   4.9s\n",
      "[CV] alpha=19 ........................................................\n",
      "[CV] ......................................... alpha=16, total=   5.9s\n",
      "[CV] alpha=19 ........................................................\n",
      "[CV] ......................................... alpha=18, total=   4.9s\n",
      "[CV] alpha=19 ........................................................\n",
      "[CV] ......................................... alpha=17, total=   5.7s\n",
      "[CV] ......................................... alpha=18, total=   5.1s\n",
      "[CV] ......................................... alpha=16, total=   6.1s\n",
      "[CV] ......................................... alpha=17, total=   6.0s\n",
      "[CV] ......................................... alpha=18, total=   5.5s\n",
      "[CV] ......................................... alpha=19, total=   3.1s\n",
      "[CV] ......................................... alpha=19, total=   2.3s\n",
      "[CV] ......................................... alpha=19, total=   2.8s\n"
     ]
    },
    {
     "name": "stderr",
     "output_type": "stream",
     "text": [
      "[Parallel(n_jobs=8)]: Done  51 out of  51 | elapsed:   41.7s finished\n"
     ]
    },
    {
     "name": "stdout",
     "output_type": "stream",
     "text": [
      "Ridge(alpha=7, copy_X=True, fit_intercept=True, max_iter=None,\n",
      "   normalize=False, random_state=None, solver='auto', tol=0.001)\n",
      "0.341583153046\n",
      "0.450995198648\n",
      "0.183598523898\n"
     ]
    }
   ],
   "source": [
    "from sklearn.model_selection import GridSearchCV\n",
    "\n",
    "CV = GridSearchCV(\n",
    "    Ridge(),\n",
    "    {'alpha': np.arange(3, 20, 1)},\n",
    "    scoring='neg_mean_squared_error',\n",
    "    n_jobs=8,\n",
    "    verbose=2\n",
    ")\n",
    "CV.fit(train[50000:], targets[50000:134137, 2])\n",
    "print(CV.best_estimator_)\n",
    "prediction = CV.predict(test)\n",
    "print(mean_squared_error(targets[134137:, 2], prediction))\n",
    "print(mean_absolute_error(targets[134137:, 2], prediction))\n",
    "print(r2_score(targets[134137:, 2], prediction))"
   ]
  },
  {
   "cell_type": "code",
   "execution_count": 48,
   "metadata": {
    "collapsed": true
   },
   "outputs": [],
   "source": [
    "pr_train = CV.predict(train)\n",
    "df[\"prediction\"] = np.concatenate((pr_train, prediction))"
   ]
  },
  {
   "cell_type": "code",
   "execution_count": 49,
   "metadata": {
    "collapsed": false
   },
   "outputs": [
    {
     "name": "stdout",
     "output_type": "stream",
     "text": [
      "0.343379\n",
      "0.451648\n",
      "0.179305369386\n",
      "CPU times: user 13min 4s, sys: 12min 12s, total: 25min 17s\n",
      "Wall time: 31min 36s\n"
     ]
    }
   ],
   "source": [
    "%%time\n",
    "XGBR = xgb.XGBRegressor(max_depth=10, n_estimators=15, silent=False)\n",
    "XGBR.fit(df.iloc[50000:134137], targets[50000:134137, 2])\n",
    "prediction = XGBR.predict(df.iloc[134137:])\n",
    "print(mean_squared_error(targets[134137:, 2], prediction))\n",
    "print(mean_absolute_error(targets[134137:, 2], prediction))\n",
    "print(r2_score(targets[134137:, 2], prediction))"
   ]
  },
  {
   "cell_type": "code",
   "execution_count": 50,
   "metadata": {
    "collapsed": false
   },
   "outputs": [
    {
     "name": "stdout",
     "output_type": "stream",
     "text": [
      "Fitting 3 folds for each of 17 candidates, totalling 51 fits\n",
      "[CV] alpha=3 .........................................................\n",
      "[CV] alpha=3 .........................................................\n",
      "[CV] alpha=3 .........................................................\n",
      "[CV] alpha=4 .........................................................\n",
      "[CV] alpha=4 .........................................................\n",
      "[CV] alpha=4 .........................................................\n",
      "[CV] alpha=5 .........................................................\n",
      "[CV] alpha=5 .........................................................\n",
      "[CV] .......................................... alpha=3, total=   8.1s\n",
      "[CV] alpha=5 .........................................................\n",
      "[CV] .......................................... alpha=4, total=   8.2s\n",
      "[CV] .......................................... alpha=4, total=   7.9s\n",
      "[CV] alpha=6 .........................................................\n",
      "[CV] alpha=6 .........................................................\n",
      "[CV] .......................................... alpha=5, total=   8.1s\n",
      "[CV] alpha=6 .........................................................\n",
      "[CV] .......................................... alpha=5, total=   8.0s\n",
      "[CV] alpha=7 .........................................................\n",
      "[CV] .......................................... alpha=3, total=   8.9s\n",
      "[CV] alpha=7 .........................................................\n",
      "[CV] .......................................... alpha=3, total=   9.4s\n",
      "[CV] alpha=7 .........................................................\n",
      "[CV] .......................................... alpha=4, total=   9.1s\n",
      "[CV] alpha=8 .........................................................\n",
      "[CV] .......................................... alpha=7, total=   6.8s\n",
      "[CV] alpha=8 .........................................................\n",
      "[CV] .......................................... alpha=6, total=   7.7s\n",
      "[CV] alpha=8 .........................................................\n",
      "[CV] .......................................... alpha=6, total=   7.6s\n",
      "[CV] alpha=9 .........................................................\n",
      "[CV] .......................................... alpha=8, total=   6.8s\n",
      "[CV] alpha=9 .........................................................\n",
      "[CV] .......................................... alpha=5, total=   8.3s\n",
      "[CV] alpha=9 .........................................................\n",
      "[CV] .......................................... alpha=7, total=   7.2s\n",
      "[CV] alpha=10 ........................................................\n",
      "[CV] .......................................... alpha=7, total=   7.6s\n",
      "[CV] alpha=10 ........................................................\n",
      "[CV] .......................................... alpha=6, total=   8.0s\n",
      "[CV] alpha=10 ........................................................\n",
      "[CV] .......................................... alpha=8, total=   6.4s\n",
      "[CV] alpha=11 ........................................................\n",
      "[CV] .......................................... alpha=8, total=   6.3s\n",
      "[CV] alpha=11 ........................................................\n",
      "[CV] .......................................... alpha=9, total=   6.3s\n",
      "[CV] ......................................... alpha=10, total=   5.8s\n",
      "[CV] alpha=11 ........................................................\n",
      "[CV] alpha=12 ........................................................\n",
      "[CV] .......................................... alpha=9, total=   6.4s\n",
      "[CV] alpha=12 ........................................................\n",
      "[CV] .......................................... alpha=9, total=   6.5s\n",
      "[CV] alpha=12 ........................................................\n",
      "[CV] ......................................... alpha=10, total=   6.3s\n",
      "[CV] alpha=13 ........................................................\n",
      "[CV] ......................................... alpha=10, total=   6.6s\n",
      "[CV] alpha=13 ........................................................\n",
      "[CV] ......................................... alpha=12, total=   5.3s\n",
      "[CV] ......................................... alpha=11, total=   5.7s\n",
      "[CV] alpha=13 ........................................................\n",
      "[CV] alpha=14 ........................................................\n"
     ]
    },
    {
     "name": "stderr",
     "output_type": "stream",
     "text": [
      "[Parallel(n_jobs=8)]: Done  25 tasks      | elapsed:   28.9s\n"
     ]
    },
    {
     "name": "stdout",
     "output_type": "stream",
     "text": [
      "[CV] ......................................... alpha=11, total=   6.3s\n",
      "[CV] alpha=14 ........................................................\n",
      "[CV] ......................................... alpha=13, total=   5.3s\n",
      "[CV] alpha=14 ........................................................\n",
      "[CV] ......................................... alpha=11, total=   6.1s\n",
      "[CV] alpha=15 ........................................................\n",
      "[CV] ......................................... alpha=12, total=   5.7s\n",
      "[CV] alpha=15 ........................................................\n",
      "[CV] ......................................... alpha=12, total=   6.3s\n",
      "[CV] alpha=15 ........................................................\n",
      "[CV] ......................................... alpha=13, total=   6.2s\n",
      "[CV] alpha=16 ........................................................\n",
      "[CV] ......................................... alpha=15, total=   5.5s\n",
      "[CV] alpha=16 ........................................................\n",
      "[CV] ......................................... alpha=14, total=   6.3s\n",
      "[CV] ......................................... alpha=13, total=   6.6s\n",
      "[CV] alpha=16 ........................................................\n",
      "[CV] alpha=17 ........................................................\n",
      "[CV] ......................................... alpha=14, total=   6.8s\n",
      "[CV] alpha=17 ........................................................\n",
      "[CV] ......................................... alpha=14, total=   6.7s\n",
      "[CV] ......................................... alpha=15, total=   6.6s\n",
      "[CV] alpha=17 ........................................................\n",
      "[CV] alpha=18 ........................................................\n",
      "[CV] ......................................... alpha=15, total=   6.6s\n",
      "[CV] alpha=18 ........................................................\n",
      "[CV] ......................................... alpha=16, total=   6.8s\n",
      "[CV] alpha=18 ........................................................\n",
      "[CV] ......................................... alpha=16, total=   6.2s\n",
      "[CV] alpha=19 ........................................................\n",
      "[CV] ......................................... alpha=17, total=   5.8s\n",
      "[CV] ......................................... alpha=17, total=   5.7s\n",
      "[CV] alpha=19 ........................................................\n",
      "[CV] alpha=19 ........................................................\n",
      "[CV] ......................................... alpha=16, total=   6.4s\n",
      "[CV] ......................................... alpha=18, total=   6.0s\n",
      "[CV] ......................................... alpha=18, total=   5.9s\n",
      "[CV] ......................................... alpha=17, total=   6.6s\n",
      "[CV] ......................................... alpha=18, total=   5.6s\n",
      "[CV] ......................................... alpha=19, total=   3.4s\n",
      "[CV] ......................................... alpha=19, total=   3.0s\n",
      "[CV] ......................................... alpha=19, total=   3.0s\n"
     ]
    },
    {
     "name": "stderr",
     "output_type": "stream",
     "text": [
      "[Parallel(n_jobs=8)]: Done  51 out of  51 | elapsed:   45.0s finished\n"
     ]
    },
    {
     "name": "stdout",
     "output_type": "stream",
     "text": [
      "Ridge(alpha=6, copy_X=True, fit_intercept=True, max_iter=None,\n",
      "   normalize=False, random_state=None, solver='auto', tol=0.001)\n",
      "0.67867649014\n",
      "0.662809634725\n",
      "0.0878976879745\n"
     ]
    }
   ],
   "source": [
    "from sklearn.model_selection import GridSearchCV\n",
    "\n",
    "CV = GridSearchCV(\n",
    "    Ridge(),\n",
    "    {'alpha': np.arange(3, 20, 1)},\n",
    "    scoring='neg_mean_squared_error',\n",
    "    n_jobs=8,\n",
    "    verbose=2\n",
    ")\n",
    "CV.fit(train[50000:], targets[50000:134137, 3])\n",
    "print(CV.best_estimator_)\n",
    "prediction = CV.predict(test)\n",
    "print(mean_squared_error(targets[134137:, 3], prediction))\n",
    "print(mean_absolute_error(targets[134137:, 3], prediction))\n",
    "print(r2_score(targets[134137:, 3], prediction))"
   ]
  },
  {
   "cell_type": "code",
   "execution_count": 51,
   "metadata": {
    "collapsed": true
   },
   "outputs": [],
   "source": [
    "pr_train = CV.predict(train)\n",
    "df[\"prediction\"] = np.concatenate((pr_train, prediction))"
   ]
  },
  {
   "cell_type": "code",
   "execution_count": 52,
   "metadata": {
    "collapsed": false
   },
   "outputs": [
    {
     "name": "stdout",
     "output_type": "stream",
     "text": [
      "0.775519\n",
      "0.71193\n",
      "-0.0422525359916\n"
     ]
    }
   ],
   "source": [
    "XGBR = xgb.XGBRegressor(max_depth=10, n_estimators=15, silent=False)\n",
    "XGBR.fit(df.iloc[50000:134137], targets[50000:134137, 3])\n",
    "prediction = XGBR.predict(df.iloc[134137:])\n",
    "print(mean_squared_error(targets[134137:, 3], prediction))\n",
    "print(mean_absolute_error(targets[134137:, 3], prediction))\n",
    "print(r2_score(targets[134137:, 3], prediction))"
   ]
  },
  {
   "cell_type": "code",
   "execution_count": null,
   "metadata": {
    "collapsed": false
   },
   "outputs": [],
   "source": [
    "import pickle\n",
    "\n",
    "with open(\"tfidf_best_train.pcl\", \"rb\") as f:\n",
    "   t = pickle.load(f)"
   ]
  },
  {
   "cell_type": "code",
   "execution_count": null,
   "metadata": {
    "collapsed": false
   },
   "outputs": [],
   "source": [
    "df = df.drop(\"Unnamed: 0\", axis=1)"
   ]
  },
  {
   "cell_type": "code",
   "execution_count": null,
   "metadata": {
    "collapsed": false
   },
   "outputs": [],
   "source": [
    "import scipy\n",
    "\n",
    "train = a\n",
    "test = b\n",
    "for c in tqdm(df.columns):\n",
    "    if c != 'wordlist_title' and c != 'wordlist_description':\n",
    "        train = scipy.sparse.hstack((train, df[c][:134137,None]))\n",
    "        test = scipy.sparse.hstack((test, df[c][134137:,None]))"
   ]
  },
  {
   "cell_type": "code",
   "execution_count": null,
   "metadata": {
    "collapsed": false
   },
   "outputs": [],
   "source": [
    "train"
   ]
  },
  {
   "cell_type": "code",
   "execution_count": null,
   "metadata": {
    "collapsed": false
   },
   "outputs": [],
   "source": [
    "import scipy\n",
    "\n",
    "train = scipy.sparse.hstack((a, da))\n",
    "test = scipy.sparse.hstack((b, db))"
   ]
  },
  {
   "cell_type": "code",
   "execution_count": null,
   "metadata": {
    "collapsed": true
   },
   "outputs": [],
   "source": [
    "import pickle\n",
    "\n",
    "with open(\"sparse_train_test_w_descr.pcl\", \"wb\") as f:\n",
    "    pickle.dump([train, test], f)"
   ]
  },
  {
   "cell_type": "code",
   "execution_count": null,
   "metadata": {
    "collapsed": true
   },
   "outputs": [],
   "source": [
    "import pickle\n",
    "\n",
    "with open(\"sparce_train_test.pcl\", \"wb\") as f:\n",
    "    pickle.dump([train, test], f)"
   ]
  },
  {
   "cell_type": "code",
   "execution_count": null,
   "metadata": {
    "collapsed": true
   },
   "outputs": [],
   "source": [
    "import pickle\n",
    "\n",
    "with open(\"sparce_train_test.pcl\", \"rb\") as f:\n",
    "    train, test = pickle.load(f)"
   ]
  },
  {
   "cell_type": "code",
   "execution_count": null,
   "metadata": {
    "collapsed": false
   },
   "outputs": [],
   "source": [
    "from sklearn.linear_model import Ridge, RidgeCV\n",
    "from sklearn.metrics import mean_squared_error\n",
    "\n",
    "LR = Ridge(10)\n",
    "LR.fit(train, targets[:134137, 0])\n",
    "print(mean_squared_error(LR.predict(test), targets[134137:, 0]))"
   ]
  },
  {
   "cell_type": "code",
   "execution_count": null,
   "metadata": {
    "collapsed": true
   },
   "outputs": [],
   "source": [
    "coord_x = []\n",
    "coord_y = []"
   ]
  },
  {
   "cell_type": "code",
   "execution_count": null,
   "metadata": {
    "collapsed": true
   },
   "outputs": [],
   "source": [
    "tmp = train.tocsc()"
   ]
  },
  {
   "cell_type": "code",
   "execution_count": null,
   "metadata": {
    "collapsed": false
   },
   "outputs": [],
   "source": [
    "from sklearn.linear_model import Ridge, RidgeCV\n",
    "from sklearn.metrics import r2_score\n",
    "from sklearn.metrics import mean_absolute_error\n",
    "from sklearn.metrics import mean_squared_error\n",
    "\n",
    "coord_x = []\n",
    "r2 = []\n",
    "mse = []\n",
    "mae = []\n",
    "\n",
    "for lower in tqdm(range(17000, 130000, 3000)):\n",
    "    LR = Ridge(1)\n",
    "    LR.fit(tmp[lower:], targets[lower:134137, 0])\n",
    "    prediction = LR.predict(test)\n",
    "    coord_x.append(lower)\n",
    "    r2.append(r2_score(targets[134137:, 0], prediction))\n",
    "    mse.append(mean_squared_error(targets[134137:, 0], prediction))\n",
    "    mae.append(mean_absolute_error(targets[134137:, 0], prediction))"
   ]
  },
  {
   "cell_type": "code",
   "execution_count": null,
   "metadata": {
    "collapsed": true
   },
   "outputs": [],
   "source": [
    "for i in range(len(coord_x)):\n",
    "    coord_x[i] = 134000 - coord_x[i]"
   ]
  },
  {
   "cell_type": "code",
   "execution_count": null,
   "metadata": {
    "collapsed": false
   },
   "outputs": [],
   "source": [
    "plt.figure(figsize=(20,8))\n",
    "plt.title(\"R^2 per train size\")\n",
    "plt.xlabel(\"Train Size\")\n",
    "plt.ylabel(\"Error\")\n",
    "plt.plot(coord_x, r2)\n",
    "plt.show()"
   ]
  },
  {
   "cell_type": "code",
   "execution_count": null,
   "metadata": {
    "collapsed": false
   },
   "outputs": [],
   "source": [
    "plt.figure(figsize=(20,8))\n",
    "plt.title(\"R^2 per train size\")\n",
    "plt.xlabel(\"Train Size\")\n",
    "plt.ylabel(\"Error\")\n",
    "plt.plot(coord_x, r2)\n",
    "plt.show()"
   ]
  },
  {
   "cell_type": "code",
   "execution_count": null,
   "metadata": {
    "collapsed": false
   },
   "outputs": [],
   "source": [
    "plt.figure(figsize=(20,8))\n",
    "plt.title(\"MSE per train size\")\n",
    "plt.xlabel(\"Train Size\")\n",
    "plt.ylabel(\"Error\")\n",
    "plt.plot(coord_x, mse)\n",
    "plt.show()"
   ]
  },
  {
   "cell_type": "code",
   "execution_count": null,
   "metadata": {
    "collapsed": false
   },
   "outputs": [],
   "source": [
    "plt.figure(figsize=(20,8))\n",
    "plt.title(\"MSE per train size\")\n",
    "plt.xlabel(\"Train Size\")\n",
    "plt.ylabel(\"Error\")\n",
    "plt.plot(coord_x, mse)\n",
    "plt.show()"
   ]
  },
  {
   "cell_type": "code",
   "execution_count": null,
   "metadata": {
    "collapsed": false
   },
   "outputs": [],
   "source": [
    "plt.figure(figsize=(20,8))\n",
    "plt.title(\"MAE per train size\")\n",
    "plt.xlabel(\"Train Size\")\n",
    "plt.ylabel(\"Error\")\n",
    "plt.plot(coord_x, mae)\n",
    "plt.show()"
   ]
  },
  {
   "cell_type": "code",
   "execution_count": null,
   "metadata": {
    "collapsed": false
   },
   "outputs": [],
   "source": [
    "from sklearn.model_selection import GridSearchCV\n",
    "\n",
    "CV = GridSearchCV(\n",
    "    Ridge(),\n",
    "    {'alpha': np.arange(3, 20, 1)},\n",
    "    scoring='neg_mean_squared_error',\n",
    "    n_jobs=8,\n",
    "    verbose=2\n",
    ")\n",
    "CV.fit(tmp[50000:], targets[50000:134137, 0])"
   ]
  },
  {
   "cell_type": "code",
   "execution_count": null,
   "metadata": {
    "collapsed": false
   },
   "outputs": [],
   "source": [
    "prediction = CV.predict(test)\n",
    "print(mean_squared_error(targets[134137:, 0], prediction))\n",
    "print(mean_absolute_error(targets[134137:, 0], prediction))\n",
    "print(r2_score(targets[134137:, 0], prediction))"
   ]
  },
  {
   "cell_type": "code",
   "execution_count": null,
   "metadata": {
    "collapsed": false
   },
   "outputs": [],
   "source": [
    "print(mean_squared_error(CV.predict(test), targets[134137:, 0]))"
   ]
  },
  {
   "cell_type": "code",
   "execution_count": null,
   "metadata": {
    "collapsed": false
   },
   "outputs": [],
   "source": [
    "CV.best_estimator_"
   ]
  },
  {
   "cell_type": "code",
   "execution_count": null,
   "metadata": {
    "collapsed": true
   },
   "outputs": [],
   "source": []
  },
  {
   "cell_type": "code",
   "execution_count": null,
   "metadata": {
    "collapsed": false
   },
   "outputs": [],
   "source": [
    "from sklearn.model_selection import GridSearchCV\n",
    "\n",
    "CV = GridSearchCV(\n",
    "    Ridge(),\n",
    "    {'alpha': np.arange(15, 25, 3)},\n",
    "    scoring='neg_mean_squared_error',\n",
    "    n_jobs=6,\n",
    "    verbose=2\n",
    ")\n",
    "CV.fit(tmp[50000:], targets[50000:134137, 1])"
   ]
  },
  {
   "cell_type": "code",
   "execution_count": null,
   "metadata": {
    "collapsed": false
   },
   "outputs": [],
   "source": [
    "model = Ridge(alpha=14, copy_X=True, fit_intercept=True, max_iter=None,\n",
    "   normalize=False, random_state=None, solver='auto', tol=0.001)\n",
    "\n",
    "model.fit(tmp[50000:], targets[50000:134137, 1])\n",
    "prediction = model.predict(test)\n",
    "print(mean_squared_error(targets[134137:, 1], prediction))\n",
    "print(mean_absolute_error(targets[134137:, 1], prediction))\n",
    "print(r2_score(targets[134137:, 1], prediction))"
   ]
  },
  {
   "cell_type": "code",
   "execution_count": null,
   "metadata": {
    "collapsed": false
   },
   "outputs": [],
   "source": [
    "print(mean_squared_error(CV.predict(test), targets[134137:, 1]))"
   ]
  },
  {
   "cell_type": "code",
   "execution_count": null,
   "metadata": {
    "collapsed": false
   },
   "outputs": [],
   "source": [
    "CV.best_estimator_"
   ]
  },
  {
   "cell_type": "code",
   "execution_count": null,
   "metadata": {
    "collapsed": false
   },
   "outputs": [],
   "source": [
    "import xgboost as xgb\n",
    "\n",
    "XGBR = xgb.XGBRegressor(max_depth=10, n_estimators=1000, silent=False)\n",
    "XGBR.fit(train, targets[50000:134137, 0])\n",
    "print(mean_squared_error(XGBR.predict(test), targets[134137:, 0]))"
   ]
  },
  {
   "cell_type": "code",
   "execution_count": null,
   "metadata": {
    "collapsed": false
   },
   "outputs": [],
   "source": [
    "from sklearn.ensemble import RandomForestRegressor\n",
    "\n",
    "CV = GridSearchCV(\n",
    "    RandomForestRegressor(n_estimators = 7),\n",
    "    {\"max_depth\": np.arange(13, 22, 2)},\n",
    "    scoring='neg_mean_squared_error',\n",
    "    n_jobs=8,\n",
    "    verbose=2\n",
    ")\n",
    "CV.fit(tmp[50000:], targets[50000:134137, 0])"
   ]
  },
  {
   "cell_type": "code",
   "execution_count": null,
   "metadata": {
    "collapsed": false
   },
   "outputs": [],
   "source": [
    "print(mean_squared_error(CV.predict(test), targets[134137:, 0]))"
   ]
  },
  {
   "cell_type": "code",
   "execution_count": null,
   "metadata": {
    "collapsed": false
   },
   "outputs": [],
   "source": [
    "CV.best_estimator_"
   ]
  },
  {
   "cell_type": "code",
   "execution_count": null,
   "metadata": {
    "collapsed": false
   },
   "outputs": [],
   "source": [
    "model = RandomForestRegressor(bootstrap=True, criterion='mse', max_depth=21,\n",
    "           max_features='auto', max_leaf_nodes=None,\n",
    "           min_impurity_split=1e-07, min_samples_leaf=1,\n",
    "           min_samples_split=2, min_weight_fraction_leaf=0.0,\n",
    "           n_estimators=7, n_jobs=1, oob_score=False, random_state=None,\n",
    "           verbose=0, warm_start=False)\n",
    "\n",
    "model.fit(tmp[50000:], targets[50000:134137, 0])\n",
    "prediction = model.predict(test)\n",
    "print(mean_squared_error(targets[134137:, 0], prediction))\n",
    "print(mean_absolute_error(targets[134137:, 0], prediction))\n",
    "print(r2_score(targets[134137:, 0], prediction))"
   ]
  },
  {
   "cell_type": "code",
   "execution_count": null,
   "metadata": {
    "collapsed": false
   },
   "outputs": [],
   "source": [
    "from sklearn.ensemble import RandomForestRegressor\n",
    "\n",
    "CV = GridSearchCV(\n",
    "    RandomForestRegressor(max_depth=21),\n",
    "    {\"n_estimators\": np.arange(5, 10, 1)},\n",
    "    scoring='neg_mean_squared_error',\n",
    "    n_jobs=8,\n",
    "    verbose=2\n",
    ")\n",
    "CV.fit(tmp[50000:], targets[50000:134137, 1])"
   ]
  },
  {
   "cell_type": "code",
   "execution_count": null,
   "metadata": {
    "collapsed": false
   },
   "outputs": [],
   "source": [
    "CV.best_estimator_"
   ]
  },
  {
   "cell_type": "code",
   "execution_count": null,
   "metadata": {
    "collapsed": false
   },
   "outputs": [],
   "source": [
    "prediction = CV.predict(test)\n",
    "print(r2_score(targets[134137:, 1], prediction))\n",
    "mean_squared_error(targets[134137:, 1], prediction)\n",
    "mean_absolute_error(targets[134137:, 1], prediction)"
   ]
  },
  {
   "cell_type": "code",
   "execution_count": null,
   "metadata": {
    "collapsed": false
   },
   "outputs": [],
   "source": [
    "r2_score(targets[134137:, 1], prediction)"
   ]
  },
  {
   "cell_type": "code",
   "execution_count": null,
   "metadata": {
    "collapsed": false
   },
   "outputs": [],
   "source": [
    "mean_squared_error(targets[134137:, 1], prediction)"
   ]
  },
  {
   "cell_type": "code",
   "execution_count": null,
   "metadata": {
    "collapsed": false
   },
   "outputs": [],
   "source": [
    "from sklearn.model_selection import GridSearchCV\n",
    "\n",
    "CV = GridSearchCV(\n",
    "    Ridge(),\n",
    "    {'alpha': np.arange(3, 20, 1)},\n",
    "    scoring='neg_mean_squared_error',\n",
    "    n_jobs=8,\n",
    "    verbose=2\n",
    ")\n",
    "CV.fit(tmp[50000:], targets[50000:134137, 2])\n",
    "print(CV.best_estimator_)\n",
    "prediction = CV.predict(test)\n",
    "print(mean_squared_error(targets[134137:, 2], prediction))\n",
    "print(mean_absolute_error(targets[134137:, 2], prediction))\n",
    "print(r2_score(targets[134137:, 2], prediction))"
   ]
  },
  {
   "cell_type": "code",
   "execution_count": null,
   "metadata": {
    "collapsed": false
   },
   "outputs": [],
   "source": [
    "from sklearn.ensemble import RandomForestRegressor\n",
    "\n",
    "CV = GridSearchCV(\n",
    "    RandomForestRegressor(max_depth=21),\n",
    "    {\"n_estimators\": np.arange(9, 12, 1)},\n",
    "    scoring='neg_mean_squared_error',\n",
    "    n_jobs=8,\n",
    "    verbose=2\n",
    ")\n",
    "CV.fit(tmp[50000:], targets[50000:134137, 2])\n",
    "print(CV.best_estimator_)\n",
    "prediction = CV.predict(test)\n",
    "print(mean_squared_error(targets[134137:, 2], prediction))\n",
    "print(mean_absolute_error(targets[134137:, 2], prediction))\n",
    "print(r2_score(targets[134137:, 2], prediction))"
   ]
  },
  {
   "cell_type": "code",
   "execution_count": null,
   "metadata": {
    "collapsed": false
   },
   "outputs": [],
   "source": [
    "from sklearn.model_selection import GridSearchCV\n",
    "\n",
    "CV = GridSearchCV(\n",
    "    Ridge(),\n",
    "    {'alpha': np.arange(3, 20, 1)},\n",
    "    scoring='neg_mean_squared_error',\n",
    "    n_jobs=8,\n",
    "    verbose=2\n",
    ")\n",
    "CV.fit(tmp[50000:], targets[50000:134137, 3])\n",
    "print(CV.best_estimator_)\n",
    "prediction = CV.predict(test)\n",
    "print(mean_squared_error(targets[134137:, 3], prediction))\n",
    "print(mean_absolute_error(targets[134137:, 3], prediction))\n",
    "print(r2_score(targets[134137:, 3], prediction))"
   ]
  },
  {
   "cell_type": "code",
   "execution_count": null,
   "metadata": {
    "collapsed": false
   },
   "outputs": [],
   "source": [
    "from sklearn.ensemble import RandomForestRegressor\n",
    "\n",
    "CV = GridSearchCV(\n",
    "    RandomForestRegressor(max_depth=21),\n",
    "    {\"n_estimators\": np.arange(7, 12, 1)},\n",
    "    scoring='neg_mean_squared_error',\n",
    "    n_jobs=8,\n",
    "    verbose=2\n",
    ")\n",
    "CV.fit(tmp[50000:], targets[50000:134137, 3])\n",
    "print(CV.best_estimator_)\n",
    "prediction = CV.predict(test)\n",
    "print(mean_squared_error(targets[134137:, 3], prediction))\n",
    "print(mean_absolute_error(targets[134137:, 3], prediction))\n",
    "print(r2_score(targets[134137:, 3], prediction))"
   ]
  },
  {
   "cell_type": "code",
   "execution_count": null,
   "metadata": {
    "collapsed": false
   },
   "outputs": [],
   "source": [
    "df.columns"
   ]
  },
  {
   "cell_type": "code",
   "execution_count": null,
   "metadata": {
    "collapsed": true
   },
   "outputs": [],
   "source": []
  }
 ],
 "metadata": {
  "anaconda-cloud": {},
  "kernelspec": {
   "display_name": "Python [default]",
   "language": "python",
   "name": "python3"
  },
  "language_info": {
   "codemirror_mode": {
    "name": "ipython",
    "version": 3
   },
   "file_extension": ".py",
   "mimetype": "text/x-python",
   "name": "python",
   "nbconvert_exporter": "python",
   "pygments_lexer": "ipython3",
   "version": "3.5.2"
  }
 },
 "nbformat": 4,
 "nbformat_minor": 1
}
