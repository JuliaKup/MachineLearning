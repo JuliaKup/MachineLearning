{
 "cells": [
  {
   "cell_type": "markdown",
   "metadata": {},
   "source": [
    "### Поиск похожих тегов"
   ]
  },
  {
   "cell_type": "markdown",
   "metadata": {},
   "source": [
    "Задачей этого проетка является поиск похожих тегов на сайте \"Хабрахабр\".\n",
    "Данными являются 134 тысячи постов, выкаченных с этого сайта.\n",
    "Стоит отметить, что на Хабрахабре теги расстваляются свободно, то есть нет заранее определенного их множества, и пользователь может создать новый. Из-за этого общее число тегов на сайте сравнимо с количеством статей, поэтому эксперимент был ограничен пятью тысячами самых популярных тегов."
   ]
  },
  {
   "cell_type": "code",
   "execution_count": 1,
   "metadata": {
    "collapsed": true
   },
   "outputs": [],
   "source": [
    "import pandas as pd\n",
    "import numpy as np\n",
    "import matplotlib as plt\n",
    "import seaborn as sns\n",
    "import matplotlib.pyplot as plt\n",
    "from tqdm import tqdm\n",
    "%matplotlib inline"
   ]
  },
  {
   "cell_type": "code",
   "execution_count": 2,
   "metadata": {
    "collapsed": false
   },
   "outputs": [
    {
     "name": "stderr",
     "output_type": "stream",
     "text": [
      "134137it [01:32, 1456.99it/s]\n"
     ]
    }
   ],
   "source": [
    "import json\n",
    "\n",
    "df = pd.DataFrame(list(map(json.loads, tqdm(open(\"howpop_train.jsonlines\")))))"
   ]
  },
  {
   "cell_type": "code",
   "execution_count": 35,
   "metadata": {
    "collapsed": false
   },
   "outputs": [
    {
     "data": {
      "text/plain": [
       "134132              [json, стандарты, никто не читает теги]\n",
       "134133               [астероиды, земля, астероидная угроза]\n",
       "134134                 [арзамас, ркн, медуза, эраст перцов]\n",
       "134135    [регулирование интернета, очередной законопрое...\n",
       "134136                        [React.js, Javascript, forms]\n",
       "Name: tags, dtype: object"
      ]
     },
     "execution_count": 35,
     "metadata": {},
     "output_type": "execute_result"
    }
   ],
   "source": [
    "df['tags'].tail()"
   ]
  },
  {
   "cell_type": "markdown",
   "metadata": {},
   "source": [
    "### TfIdf и похожесть по косинусу"
   ]
  },
  {
   "cell_type": "code",
   "execution_count": 3,
   "metadata": {
    "collapsed": true
   },
   "outputs": [],
   "source": [
    "from sklearn.feature_extraction.text import TfidfVectorizer\n",
    "from sklearn.metrics.pairwise import cosine_similarity\n",
    "\n",
    "# превращаем лист тегов в строку, где теги разделены запятой\n",
    "tags_strings = []\n",
    "for i in range(len(df)):\n",
    "    tags_strings.append(\", \".join(df[\"tags\"][i]))\n",
    "\n",
    "# шаблон, по которому TfidfVectorizer будет брать токены\n",
    "token_pattern = r'\\b([^,]+)'\n",
    "\n",
    "vectorizer = TfidfVectorizer(token_pattern=token_pattern, max_features=5000)\n",
    "\n",
    "# matrix - матрица: строки - объекты, столбцы - теги\n",
    "matrix = vectorizer.fit_transform(tags_strings)\n",
    "\n",
    "# matrix_T - матрица: строки - теги, столбцы - объекты\n",
    "matrix_T = matrix.toarray().transpose()\n",
    "\n",
    "# определяем \"похожесть\" тегов друг на друга\n",
    "s = cosine_similarity(matrix_T)"
   ]
  },
  {
   "cell_type": "code",
   "execution_count": 4,
   "metadata": {
    "collapsed": true
   },
   "outputs": [],
   "source": [
    "# {индекс тега в таблице коэффициентов \"похожестей\": название тега}\n",
    "tags_idx = {vectorizer.vocabulary_[tag]: tag for tag in vectorizer.vocabulary_.keys()}"
   ]
  },
  {
   "cell_type": "code",
   "execution_count": 54,
   "metadata": {
    "collapsed": true
   },
   "outputs": [],
   "source": [
    "# {тег: лист тегов, похожих на него}\n",
    "similar_tags = {}"
   ]
  },
  {
   "cell_type": "code",
   "execution_count": 55,
   "metadata": {
    "collapsed": false
   },
   "outputs": [],
   "source": [
    "for i in tags_idx.keys():\n",
    "    most_similar = list(np.where(s[i] > 0.09)[0])\n",
    "    tags = []\n",
    "    for idx in most_similar:\n",
    "        tags.append(tags_idx[idx])\n",
    "    similar_tags[tags_idx[i]] = tags"
   ]
  },
  {
   "cell_type": "code",
   "execution_count": 56,
   "metadata": {
    "collapsed": false
   },
   "outputs": [
    {
     "name": "stdout",
     "output_type": "stream",
     "text": [
      "webasyst : ['webasyst']\n",
      "wpf : ['binding', 'c#', 'mvvm', 'net', 'silverlight', 'winforms', 'wpf', 'xaml']\n",
      "san : ['iscsi', 'san', 'системы хранения данных', 'схд']\n",
      "gns3 : ['cisco', 'gns3', 'сети для самых маленьких']\n",
      "патент : ['изобретение', 'патент', 'патентование']\n",
      "css3 : ['css', 'css 3', 'css3', 'css3 animation', 'css3 transition', 'html', 'html5', 'js', 'веб-разработка', 'дайджест', 'интересное', 'ресурсы', 'ссылки', 'ссылки на сми']\n",
      "ford : ['ford']\n",
      "игровые консоли : ['игровые консоли', 'игровые приставки', 'приставки', 'эмуляторы']\n",
      "киев : ['киев', 'хабравстречи']\n",
      "микроконтроллер : ['микроконтроллер']\n",
      "виртуализация : ['hyper-v', 'vdi', 'vmware', 'xen', 'виртуализация', 'виртуальная машина', 'гипервизор']\n",
      "импортозамещение по : ['законодательство и ит', 'импортозамещение по', 'минкомсвязи']\n",
      "nagios : ['nagios', 'мониторинг']\n",
      "cloud : ['cloud', 'cloud computing', 'microsoft azure', 'облака', 'облако']\n",
      "опыты : ['goldphone', 'gtv', 'simple science', 'для детей', 'наука', 'научно-популярное', 'опыты', 'простая наука', 'своими руками', 'физика', 'химия', 'эксперименты']\n",
      "china : ['china']\n",
      "frontend : ['backend', 'front-end разработка', 'frontend']\n",
      "driver : ['driver', 'драйвер']\n",
      "резервное копирование файлов : ['dsm', 'nas', 'synology', 'облачные технологии', 'резервное копирование файлов', 'системы хранения данных']\n",
      "ddd : ['ddd']\n",
      "ui : ['ui', 'ux']\n",
      "сканирование : ['сканер', 'сканирование']\n",
      "язык : ['язык']\n",
      "автоматизация стоматологии : ['dental cloud', 'saas сервисы', 'автоматизация стоматологии']\n",
      "акция : ['акция', 'скидка']\n"
     ]
    }
   ],
   "source": [
    "i = 0\n",
    "for key in similar_tags.keys():\n",
    "    print(key, ':', similar_tags[key])\n",
    "    i += 1\n",
    "    if i == 25: break"
   ]
  },
  {
   "cell_type": "markdown",
   "metadata": {},
   "source": [
    "### Word2Vec"
   ]
  },
  {
   "cell_type": "code",
   "execution_count": 7,
   "metadata": {
    "collapsed": false
   },
   "outputs": [],
   "source": [
    "# лист всех постов Хабрахабра\n",
    "corpus = list(df.content.values)"
   ]
  },
  {
   "cell_type": "code",
   "execution_count": 29,
   "metadata": {
    "collapsed": true
   },
   "outputs": [],
   "source": [
    "# лист из пяти тысяч самых популярных тегов, очищенных от чисел\n",
    "tags = list(similar_tags.keys())\n",
    "for i in range(len(tags)):\n",
    "    tags[i] = re.sub('\\d+', '', tags[i])\n",
    "tags = list(filter(None, list(set(tags))))"
   ]
  },
  {
   "cell_type": "markdown",
   "metadata": {},
   "source": [
    "Обработка поста:\n",
    "1. Замена всех пробельных символов на пробел.\n",
    "2. Удаление всех html-тегов.\n",
    "3. Удаление знаков пунктуации.\n",
    "4. Если какой-то из тегов встречается в статье, то в нем заменются все пробелы знаком подчеркивания.\n",
    "5. Разделение поста на лист по знакам препинания."
   ]
  },
  {
   "cell_type": "code",
   "execution_count": 36,
   "metadata": {
    "collapsed": false
   },
   "outputs": [],
   "source": [
    "import re\n",
    "from bs4 import BeautifulSoup\n",
    "\n",
    "def save_tags(text):\n",
    "    text = re.sub(\"\\s\", \" \", text).lower()\n",
    "    soup = BeautifulSoup(text, 'html.parser')\n",
    "    text = soup.get_text()\n",
    "    text = re.sub('[\\'|\"|)|(|}|{|+|*|~|\\d|“|…]*', '', text)\n",
    "    for tag in tags:\n",
    "        if tag.lower() in text:\n",
    "            text = text.replace(tag.lower(), tag.lower().replace(' ', '_'))\n",
    "    return list(filter(None, re.split('[ |.|,|;|:|/|!|?|—]', text)))"
   ]
  },
  {
   "cell_type": "code",
   "execution_count": 38,
   "metadata": {
    "collapsed": false
   },
   "outputs": [
    {
     "name": "stderr",
     "output_type": "stream",
     "text": [
      " 51%|█████▏    | 68962/134137 [12:43<14:54, 72.86it/s]/Users/Julia/anaconda/lib/python3.5/site-packages/bs4/__init__.py:219: UserWarning: \"b'/////////'\" looks like a filename, not markup. You shouldprobably open this file and pass the filehandle intoBeautiful Soup.\n",
      "  'Beautiful Soup.' % markup)\n",
      "100%|██████████| 134137/134137 [31:21<00:00, 41.30it/s]\n"
     ]
    }
   ],
   "source": [
    "import joblib\n",
    "sentences = joblib.Parallel(n_jobs=2)(tqdm(list(map(joblib.delayed(save_tags),corpus))))"
   ]
  },
  {
   "cell_type": "markdown",
   "metadata": {},
   "source": [
    "Обучение модели Word2Vec."
   ]
  },
  {
   "cell_type": "code",
   "execution_count": 40,
   "metadata": {
    "collapsed": false
   },
   "outputs": [],
   "source": [
    "import gensim\n",
    "from gensim.models import Word2Vec\n",
    "\n",
    "num_features = 128    # Word vector dimensionality\n",
    "num_workers = 2      # Number of threads to run in parallel\n",
    "context = 10          # Context window size\n",
    "downsampling = 1e-3   # Downsample setting for frequent words\n",
    "\n",
    "model = Word2Vec(sentences, workers=num_workers, size=num_features, \\\n",
    "                 window = context, sample = downsampling, seed=1, null_word=\"NULL\")"
   ]
  },
  {
   "cell_type": "code",
   "execution_count": 8,
   "metadata": {
    "collapsed": true
   },
   "outputs": [],
   "source": [
    "# лист тегов\n",
    "columns = list(similar_tags.keys())"
   ]
  },
  {
   "cell_type": "code",
   "execution_count": 40,
   "metadata": {
    "collapsed": false
   },
   "outputs": [
    {
     "name": "stderr",
     "output_type": "stream",
     "text": [
      "100%|██████████| 5000/5000 [07:49<00:00, 12.25it/s]\n"
     ]
    }
   ],
   "source": [
    "import re\n",
    "\n",
    "#{тег: [[другой тег, мера похожести этих тегов], ...]}\n",
    "w2v_tag_closeness = {}\n",
    "\n",
    "for tag in tqdm(columns):\n",
    "    w2v_tag_closeness[tag] = []\n",
    "    first = re.sub('\\d+', '', tag).lower().replace(' ', '_')\n",
    "    \n",
    "    for another in columns:\n",
    "        second = re.sub('\\d+', '', another).lower().replace(' ', '_')\n",
    "        try:\n",
    "            w2v_tag_closeness[tag].append([another, model.similarity(first, second)])\n",
    "        except:\n",
    "            pass"
   ]
  },
  {
   "cell_type": "code",
   "execution_count": 49,
   "metadata": {
    "collapsed": false
   },
   "outputs": [
    {
     "name": "stdout",
     "output_type": "stream",
     "text": [
      "webasyst : ['webasyst', '1с-битрикс', 'phpshop', 'wix']\n",
      "wpf : ['wpf', 'winforms', 'silverlight', 'winrt']\n",
      "san : ['san', 'iscsi', 'netapp fas', 'netapp']\n",
      "gns3 : ['gns3', 'qemu', 'virtualbox', 'kvm']\n",
      "css3 : ['css3', 'css', 'css 3', 'sass']\n",
      "ford : ['ford', 'honda', 'nissan', 'toyota']\n",
      "киев : ['киев', 'минск', 'харьков', 'новосибирск']\n",
      "микроконтроллер : ['микроконтроллер', 'atmega8', 'atmega', 'attiny13']\n",
      "high frequency trading : ['high frequency trading', 'hft', 'высокочастотный трейдинг', 'трейдинг']\n",
      "nagios : ['nagios', 'zabbix', 'puppet', 'systemd']\n",
      "cloud : ['cloud', '1cloud', 'microsoft azure', 'azure']\n",
      "опыты : ['опыты', 'эксперименты', 'испытания', 'научные исследования']\n",
      "china : ['china', 'verizon', 'at&t', 'вымпелком']\n",
      "frontend : ['frontend', 'backend', 'front-end', 'фронтенд']\n",
      "driver : ['driver', 'firmware', 'remote control', 'hardware']\n",
      "резервное копирование файлов : ['резервное копирование файлов', 'продвижение в интернете', 'мониторинг сервера', 'проект око']\n",
      "ddd : ['ddd', 'uml', 'bdd', 'test driven development']\n",
      "ui : ['ui', 'wpf', 'gui', 'winforms']\n",
      "сканирование : ['сканирование', 'распознавание', 'восстановление', 'восстановление данных']\n",
      "афиша : ['афиша', 'рамблер', 'рестораны', 'воронеж']\n"
     ]
    }
   ],
   "source": [
    "i = 0\n",
    "for key in w2v_tag_closeness:\n",
    "    w2v_tag_closeness[key].sort(key=lambda x: -x[1])\n",
    "    try:\n",
    "        print(key, ':', [w2v_tag_closeness[key][i][0] for i in range(4)])\n",
    "        i += 1\n",
    "    except:\n",
    "        pass\n",
    "    if i == 20: break"
   ]
  },
  {
   "cell_type": "markdown",
   "metadata": {},
   "source": [
    "Небольшие эксперименты на сравнение"
   ]
  },
  {
   "cell_type": "code",
   "execution_count": 69,
   "metadata": {
    "collapsed": false
   },
   "outputs": [
    {
     "name": "stdout",
     "output_type": "stream",
     "text": [
      "TfIdf | Word2Vec\n",
      "----------------\n",
      "css | css3\n",
      "css3 | css\n",
      "html | css 3\n",
      "js | sass\n",
      "less | html\n",
      "верстка | html5\n",
      "вёрстка | scss\n",
      "интересности&полезности | svg\n",
      "ресурсы | javascript\n",
      "ссылки | flexbox\n"
     ]
    }
   ],
   "source": [
    "w2v_tag_closeness['css'].sort(key=lambda x: -x[1])\n",
    "print('TfIdf | Word2Vec')\n",
    "print('----------------')\n",
    "for i in range(10):\n",
    "    print(similar_tags['css'][i], '|', w2v_tag_closeness['css'][i][0])"
   ]
  },
  {
   "cell_type": "code",
   "execution_count": 70,
   "metadata": {
    "collapsed": false
   },
   "outputs": [
    {
     "name": "stdout",
     "output_type": "stream",
     "text": [
      "TfIdf | Word2Vec\n",
      "----------------\n",
      "stanford | stanford\n",
      "udacity | coursera\n"
     ]
    }
   ],
   "source": [
    "w2v_tag_closeness['stanford'].sort(key=lambda x: -x[1])\n",
    "print('TfIdf | Word2Vec')\n",
    "print('----------------')\n",
    "for i in range(2):\n",
    "    print(similar_tags['stanford'][i], '|', w2v_tag_closeness['stanford'][i][0])"
   ]
  },
  {
   "cell_type": "code",
   "execution_count": 74,
   "metadata": {
    "collapsed": false
   },
   "outputs": [
    {
     "name": "stdout",
     "output_type": "stream",
     "text": [
      "TfIdf | Word2Vec\n",
      "----------------\n",
      "django | python\n",
      "flask | python3\n",
      "python | perl6\n",
      "python3 | perl\n"
     ]
    }
   ],
   "source": [
    "w2v_tag_closeness['python'].sort(key=lambda x: -x[1])\n",
    "print('TfIdf | Word2Vec')\n",
    "print('----------------')\n",
    "for i in range(len(similar_tags['python'])):\n",
    "    print(similar_tags['python'][i], '|', w2v_tag_closeness['python'][i][0])"
   ]
  },
  {
   "cell_type": "code",
   "execution_count": 75,
   "metadata": {
    "collapsed": false
   },
   "outputs": [
    {
     "name": "stdout",
     "output_type": "stream",
     "text": [
      "TfIdf | Word2Vec\n",
      "----------------\n",
      "deep learning | deep learning\n",
      "глубокое обучение | machine learning\n"
     ]
    }
   ],
   "source": [
    "w2v_tag_closeness['deep learning'].sort(key=lambda x: -x[1])\n",
    "print('TfIdf | Word2Vec')\n",
    "print('----------------')\n",
    "for i in range(len(similar_tags['deep learning'])):\n",
    "    print(similar_tags['deep learning'][i], '|', w2v_tag_closeness['deep learning'][i][0])"
   ]
  },
  {
   "cell_type": "markdown",
   "metadata": {},
   "source": [
    "Оба метода работают и дают хороший результат. Какой метод дает лучший результат сказать сложно.\n",
    "Модель Word2Vec легка \"в управлении\", то есть с её помощью не надо думать об индексах в матрицах. С другой стороны, TfIdf обучается значительно быстрее и не требует больших мощностей.\n",
    "Основная сложность проекта заключалась в вопросах: как наилучшим образом обработать статьи для подачи в модель Word2Vec, и как создать эмбеддинги тегов с её помощью.\n",
    "Для дальнейших исследований можно использовать оба варианта."
   ]
  }
 ],
 "metadata": {
  "anaconda-cloud": {},
  "kernelspec": {
   "display_name": "Python [conda root]",
   "language": "python",
   "name": "conda-root-py"
  },
  "language_info": {
   "codemirror_mode": {
    "name": "ipython",
    "version": 3
   },
   "file_extension": ".py",
   "mimetype": "text/x-python",
   "name": "python",
   "nbconvert_exporter": "python",
   "pygments_lexer": "ipython3",
   "version": "3.5.2"
  }
 },
 "nbformat": 4,
 "nbformat_minor": 1
}
