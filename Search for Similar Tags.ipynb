{
 "cells": [
  {
   "cell_type": "code",
   "execution_count": 1,
   "metadata": {
    "collapsed": true
   },
   "outputs": [],
   "source": [
    "import pandas as pd\n",
    "import numpy as np\n",
    "import matplotlib as plt\n",
    "import seaborn as sns\n",
    "import matplotlib.pyplot as plt\n",
    "%matplotlib inline"
   ]
  },
  {
   "cell_type": "code",
   "execution_count": 2,
   "metadata": {
    "collapsed": true
   },
   "outputs": [],
   "source": [
    "import json\n",
    "\n",
    "with open(\"howpop_train.jsonlines\") as file:\n",
    "    records = [json.loads(line) for line in file]\n",
    "    df = pd.DataFrame(records)"
   ]
  },
  {
   "cell_type": "code",
   "execution_count": 35,
   "metadata": {
    "collapsed": false
   },
   "outputs": [
    {
     "data": {
      "text/plain": [
       "134132              [json, стандарты, никто не читает теги]\n",
       "134133               [астероиды, земля, астероидная угроза]\n",
       "134134                 [арзамас, ркн, медуза, эраст перцов]\n",
       "134135    [регулирование интернета, очередной законопрое...\n",
       "134136                        [React.js, Javascript, forms]\n",
       "Name: tags, dtype: object"
      ]
     },
     "execution_count": 35,
     "metadata": {},
     "output_type": "execute_result"
    }
   ],
   "source": [
    "df['tags'].tail()"
   ]
  },
  {
   "cell_type": "code",
   "execution_count": 3,
   "metadata": {
    "collapsed": true
   },
   "outputs": [],
   "source": [
    "from sklearn.feature_extraction.text import TfidfVectorizer\n",
    "from sklearn.metrics.pairwise import cosine_similarity\n",
    "\n",
    "# превращаем лист тегов в строку, где теги разделены запятой\n",
    "tags_strings = []\n",
    "for i in range(len(df)):\n",
    "    tags_strings.append(\", \".join(df[\"tags\"][i]))\n",
    "\n",
    "# шаблон, по которому TfidfVectorizer будет брать токены\n",
    "token_pattern = r'\\b([^,]+)'\n",
    "\n",
    "vectorizer = TfidfVectorizer(token_pattern=token_pattern, max_features=5000)\n",
    "\n",
    "# matrix - матрица: строки - объекты, столбцы - теги\n",
    "matrix = vectorizer.fit_transform(tags_strings)\n",
    "\n",
    "# matrix_T - матрица: строки - теги, столбцы - объекты\n",
    "matrix_T = matrix.toarray().transpose()\n",
    "\n",
    "# определяем \"похожесть\" тегов друг на друга\n",
    "s = cosine_similarity(matrix_T)"
   ]
  },
  {
   "cell_type": "code",
   "execution_count": 8,
   "metadata": {
    "collapsed": true
   },
   "outputs": [],
   "source": [
    "# {индекс тега в таблице коэффициентов \"похожестей\": название тега}\n",
    "tags_idx = {vectorizer.vocabulary_[tag]: tag for tag in vectorizer.vocabulary_.keys()}"
   ]
  },
  {
   "cell_type": "code",
   "execution_count": 18,
   "metadata": {
    "collapsed": true
   },
   "outputs": [],
   "source": [
    "# {тег: лист тегов, похожих на него}\n",
    "similar_tags = {}"
   ]
  },
  {
   "cell_type": "code",
   "execution_count": 19,
   "metadata": {
    "collapsed": false
   },
   "outputs": [],
   "source": [
    "for i in tags_idx.keys():\n",
    "    most_similar = list(np.where(s[i] > 0.1)[0])\n",
    "    tags = []\n",
    "    for idx in most_similar:\n",
    "        tags.append(tags_idx[idx])\n",
    "    similar_tags[tags_idx[i]] = tags"
   ]
  },
  {
   "cell_type": "code",
   "execution_count": 27,
   "metadata": {
    "collapsed": false
   },
   "outputs": [
    {
     "name": "stdout",
     "output_type": "stream",
     "text": [
      "рендеринг : ['рендеринг']\n",
      "роутеры : ['d-link', 'роутеры']\n",
      "линус торвальдс : ['линус торвальдс']\n",
      "привычки : ['как повысить продуктивность', 'личная продуктивность', 'полезные советы', 'привычки', 'продуктивность']\n",
      "icloud : ['icloud']\n",
      "управление требованиями : ['управление требованиями']\n",
      "собеседование : ['собеседование']\n",
      "рубль : ['доллар', 'евро', 'мировые рынки', 'нефть', 'рубль', 'финансы', 'фондовый рынок']\n",
      "высшее образование : ['высшее образование']\n",
      "конец света : ['конец света']\n",
      "обама : ['обама']\n",
      "с# : ['vst', 'с#']\n",
      "праздник : ['праздник']\n",
      "для детей : ['goldphone', 'gtv', 'simple science', 'для детей', 'опыты', 'простая наука', 'эксперименты']\n",
      "океан : ['мусор', 'океан']\n",
      "mac os x : ['mac os x']\n",
      "системы охлаждения : ['системы охлаждения']\n",
      "интернет-магазин : ['e-commerce', 'интернет-магазин', 'электронная коммерция']\n",
      "настольные игры : ['zillions of games 2', 'настольные игры']\n",
      "guide : ['guide']\n",
      "ит-град : ['iaas', 'it-grad', 'виртуальная инфраструктура', 'ит-град']\n",
      "радио : ['радио']\n",
      "asp.net : ['asp.net', 'asp.net mvc', 'aspnetcolumn']\n",
      "wargaming.net : ['game dev', 'wargaming', 'wargaming.net']\n",
      "видеорегистратор : ['1080p', 'advocam', 'видеорегистратор']\n"
     ]
    }
   ],
   "source": [
    "i = 0\n",
    "for key in similar_tags.keys():\n",
    "    print(key, ':', similar_tags[key])\n",
    "    i += 1\n",
    "    if i == 25: break"
   ]
  },
  {
   "cell_type": "code",
   "execution_count": null,
   "metadata": {
    "collapsed": true
   },
   "outputs": [],
   "source": [
    "# tags = {}\n",
    "# for i in range(len(df)):\n",
    "#     current_tags = df[\"tags\"][i]\n",
    "#     queue = df[\"tags\"][i]\n",
    "#     while queue:\n",
    "#         if queue[0] in similar_tags:\n",
    "#             for tag in similar_tags[queue[0]]:\n",
    "#                 if tag not in current_tags:\n",
    "#                     current_tags.append(tag)\n",
    "#                     queue.append(tag)\n",
    "#             queue.pop(0)\n",
    "            \n",
    "#     for tag in df[\"tags\"][i]:\n",
    "#         if tag not in tags:\n",
    "#             tags[tag] = [0] * len(df)\n",
    "#         tags[tag][i] = 1\n",
    "#         if tag in similar_tags:"
   ]
  }
 ],
 "metadata": {
  "anaconda-cloud": {},
  "kernelspec": {
   "display_name": "Python [conda root]",
   "language": "python",
   "name": "conda-root-py"
  },
  "language_info": {
   "codemirror_mode": {
    "name": "ipython",
    "version": 3
   },
   "file_extension": ".py",
   "mimetype": "text/x-python",
   "name": "python",
   "nbconvert_exporter": "python",
   "pygments_lexer": "ipython3",
   "version": "3.5.2"
  }
 },
 "nbformat": 4,
 "nbformat_minor": 1
}
